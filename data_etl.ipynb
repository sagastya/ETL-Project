{
 "cells": [
  {
   "cell_type": "code",
   "execution_count": 8,
   "metadata": {},
   "outputs": [],
   "source": [
    "import pandas as pd\n",
    "from sqlalchemy import create_engine"
   ]
  },
  {
   "cell_type": "markdown",
   "metadata": {
    "slideshow": {
     "slide_type": "-"
    }
   },
   "source": [
    "### Store CSV into DataFrame"
   ]
  },
  {
   "cell_type": "code",
   "execution_count": 9,
   "metadata": {},
   "outputs": [
    {
     "data": {
      "text/html": [
       "<div>\n",
       "<style scoped>\n",
       "    .dataframe tbody tr th:only-of-type {\n",
       "        vertical-align: middle;\n",
       "    }\n",
       "\n",
       "    .dataframe tbody tr th {\n",
       "        vertical-align: top;\n",
       "    }\n",
       "\n",
       "    .dataframe thead th {\n",
       "        text-align: right;\n",
       "    }\n",
       "</style>\n",
       "<table border=\"1\" class=\"dataframe\">\n",
       "  <thead>\n",
       "    <tr style=\"text-align: right;\">\n",
       "      <th></th>\n",
       "      <th>NCESSCH</th>\n",
       "      <th>NAME</th>\n",
       "      <th>STREET</th>\n",
       "      <th>CITY</th>\n",
       "      <th>STATE</th>\n",
       "      <th>ZIP</th>\n",
       "      <th>NMCNTY</th>\n",
       "      <th>LAT</th>\n",
       "      <th>LON</th>\n",
       "      <th>SCHOOLYEAR</th>\n",
       "    </tr>\n",
       "  </thead>\n",
       "  <tbody>\n",
       "    <tr>\n",
       "      <td>0</td>\n",
       "      <td>1.023700e+10</td>\n",
       "      <td>Pillans Middle School</td>\n",
       "      <td>2051 Military Rd</td>\n",
       "      <td>Mobile</td>\n",
       "      <td>AL</td>\n",
       "      <td>36605</td>\n",
       "      <td>Mobile County</td>\n",
       "      <td>30.628471</td>\n",
       "      <td>-88.085440</td>\n",
       "      <td>2017-2018</td>\n",
       "    </tr>\n",
       "    <tr>\n",
       "      <td>1</td>\n",
       "      <td>1.023700e+10</td>\n",
       "      <td>Phillips Preparatory Middle School</td>\n",
       "      <td>3255 Old Shell Rd</td>\n",
       "      <td>Mobile</td>\n",
       "      <td>AL</td>\n",
       "      <td>36607</td>\n",
       "      <td>Mobile County</td>\n",
       "      <td>30.696872</td>\n",
       "      <td>-88.120320</td>\n",
       "      <td>2017-2018</td>\n",
       "    </tr>\n",
       "    <tr>\n",
       "      <td>2</td>\n",
       "      <td>1.023700e+10</td>\n",
       "      <td>WD Robbins Elementary School</td>\n",
       "      <td>2416 W Main St</td>\n",
       "      <td>Prichard</td>\n",
       "      <td>AL</td>\n",
       "      <td>36610</td>\n",
       "      <td>Mobile County</td>\n",
       "      <td>30.744798</td>\n",
       "      <td>-88.098192</td>\n",
       "      <td>2017-2018</td>\n",
       "    </tr>\n",
       "    <tr>\n",
       "      <td>3</td>\n",
       "      <td>1.023700e+10</td>\n",
       "      <td>CL Scarborough Model Middle School</td>\n",
       "      <td>1800 Phillips Ln</td>\n",
       "      <td>Mobile</td>\n",
       "      <td>AL</td>\n",
       "      <td>36618</td>\n",
       "      <td>Mobile County</td>\n",
       "      <td>30.726541</td>\n",
       "      <td>-88.143270</td>\n",
       "      <td>2017-2018</td>\n",
       "    </tr>\n",
       "    <tr>\n",
       "      <td>4</td>\n",
       "      <td>1.023700e+10</td>\n",
       "      <td>Semmes Middle School</td>\n",
       "      <td>4566 Ed George Road</td>\n",
       "      <td>Semmes</td>\n",
       "      <td>AL</td>\n",
       "      <td>36575</td>\n",
       "      <td>Mobile County</td>\n",
       "      <td>30.786316</td>\n",
       "      <td>-88.290427</td>\n",
       "      <td>2017-2018</td>\n",
       "    </tr>\n",
       "  </tbody>\n",
       "</table>\n",
       "</div>"
      ],
      "text/plain": [
       "        NCESSCH                                NAME               STREET  \\\n",
       "0  1.023700e+10               Pillans Middle School     2051 Military Rd   \n",
       "1  1.023700e+10  Phillips Preparatory Middle School    3255 Old Shell Rd   \n",
       "2  1.023700e+10        WD Robbins Elementary School       2416 W Main St   \n",
       "3  1.023700e+10  CL Scarborough Model Middle School     1800 Phillips Ln   \n",
       "4  1.023700e+10                Semmes Middle School  4566 Ed George Road   \n",
       "\n",
       "       CITY STATE    ZIP         NMCNTY        LAT        LON SCHOOLYEAR  \n",
       "0    Mobile    AL  36605  Mobile County  30.628471 -88.085440  2017-2018  \n",
       "1    Mobile    AL  36607  Mobile County  30.696872 -88.120320  2017-2018  \n",
       "2  Prichard    AL  36610  Mobile County  30.744798 -88.098192  2017-2018  \n",
       "3    Mobile    AL  36618  Mobile County  30.726541 -88.143270  2017-2018  \n",
       "4    Semmes    AL  36575  Mobile County  30.786316 -88.290427  2017-2018  "
      ]
     },
     "execution_count": 9,
     "metadata": {},
     "output_type": "execute_result"
    }
   ],
   "source": [
    "csv_file = \"Resources/Public_School_Locations_201718.csv\"\n",
    "schools_df = pd.read_csv(csv_file)\n",
    "schools_df.head()"
   ]
  },
  {
   "cell_type": "markdown",
   "metadata": {},
   "source": [
    "### Create new data with select columns"
   ]
  },
  {
   "cell_type": "code",
   "execution_count": 10,
   "metadata": {},
   "outputs": [
    {
     "data": {
      "text/html": [
       "<div>\n",
       "<style scoped>\n",
       "    .dataframe tbody tr th:only-of-type {\n",
       "        vertical-align: middle;\n",
       "    }\n",
       "\n",
       "    .dataframe tbody tr th {\n",
       "        vertical-align: top;\n",
       "    }\n",
       "\n",
       "    .dataframe thead th {\n",
       "        text-align: right;\n",
       "    }\n",
       "</style>\n",
       "<table border=\"1\" class=\"dataframe\">\n",
       "  <thead>\n",
       "    <tr style=\"text-align: right;\">\n",
       "      <th></th>\n",
       "      <th>name</th>\n",
       "      <th>street</th>\n",
       "      <th>city</th>\n",
       "      <th>state</th>\n",
       "      <th>zip</th>\n",
       "    </tr>\n",
       "  </thead>\n",
       "  <tbody>\n",
       "    <tr>\n",
       "      <td>0</td>\n",
       "      <td>Pillans Middle School</td>\n",
       "      <td>2051 Military Rd</td>\n",
       "      <td>Mobile</td>\n",
       "      <td>AL</td>\n",
       "      <td>36605</td>\n",
       "    </tr>\n",
       "    <tr>\n",
       "      <td>1</td>\n",
       "      <td>Phillips Preparatory Middle School</td>\n",
       "      <td>3255 Old Shell Rd</td>\n",
       "      <td>Mobile</td>\n",
       "      <td>AL</td>\n",
       "      <td>36607</td>\n",
       "    </tr>\n",
       "    <tr>\n",
       "      <td>2</td>\n",
       "      <td>WD Robbins Elementary School</td>\n",
       "      <td>2416 W Main St</td>\n",
       "      <td>Prichard</td>\n",
       "      <td>AL</td>\n",
       "      <td>36610</td>\n",
       "    </tr>\n",
       "    <tr>\n",
       "      <td>3</td>\n",
       "      <td>CL Scarborough Model Middle School</td>\n",
       "      <td>1800 Phillips Ln</td>\n",
       "      <td>Mobile</td>\n",
       "      <td>AL</td>\n",
       "      <td>36618</td>\n",
       "    </tr>\n",
       "    <tr>\n",
       "      <td>4</td>\n",
       "      <td>Semmes Middle School</td>\n",
       "      <td>4566 Ed George Road</td>\n",
       "      <td>Semmes</td>\n",
       "      <td>AL</td>\n",
       "      <td>36575</td>\n",
       "    </tr>\n",
       "  </tbody>\n",
       "</table>\n",
       "</div>"
      ],
      "text/plain": [
       "                                 name               street      city state  \\\n",
       "0               Pillans Middle School     2051 Military Rd    Mobile    AL   \n",
       "1  Phillips Preparatory Middle School    3255 Old Shell Rd    Mobile    AL   \n",
       "2        WD Robbins Elementary School       2416 W Main St  Prichard    AL   \n",
       "3  CL Scarborough Model Middle School     1800 Phillips Ln    Mobile    AL   \n",
       "4                Semmes Middle School  4566 Ed George Road    Semmes    AL   \n",
       "\n",
       "     zip  \n",
       "0  36605  \n",
       "1  36607  \n",
       "2  36610  \n",
       "3  36618  \n",
       "4  36575  "
      ]
     },
     "execution_count": 10,
     "metadata": {},
     "output_type": "execute_result"
    }
   ],
   "source": [
    "schools_cols = ['NAME', 'STREET', 'CITY', 'STATE', 'ZIP']\n",
    "schools_transformed = schools_df[schools_cols].copy()\n",
    "\n",
    "# Rename the column headers \n",
    "schools_transformed = schools_transformed.rename(columns={\"NAME\": \"name\", \n",
    "                                                          \"STREET\": \"street\",\n",
    "                                                          \"CITY\": \"city\",\n",
    "                                                          \"STATE\": \"state\",\n",
    "                                                          \"ZIP\": \"zip\"})\n",
    "# Clean the data by dropping duplicates and setting the index\n",
    "schools_transformed.drop_duplicates(inplace=True)\n",
    "schools_transformed.head()"
   ]
  },
  {
   "cell_type": "markdown",
   "metadata": {},
   "source": [
    "### Clean DataFrame"
   ]
  },
  {
   "cell_type": "code",
   "execution_count": 11,
   "metadata": {},
   "outputs": [
    {
     "name": "stderr",
     "output_type": "stream",
     "text": [
      "C:\\Users\\sagas\\Anaconda3\\lib\\site-packages\\ipykernel_launcher.py:4: SettingWithCopyWarning: \n",
      "A value is trying to be set on a copy of a slice from a DataFrame\n",
      "\n",
      "See the caveats in the documentation: http://pandas.pydata.org/pandas-docs/stable/user_guide/indexing.html#returning-a-view-versus-a-copy\n",
      "  after removing the cwd from sys.path.\n"
     ]
    },
    {
     "data": {
      "text/html": [
       "<div>\n",
       "<style scoped>\n",
       "    .dataframe tbody tr th:only-of-type {\n",
       "        vertical-align: middle;\n",
       "    }\n",
       "\n",
       "    .dataframe tbody tr th {\n",
       "        vertical-align: top;\n",
       "    }\n",
       "\n",
       "    .dataframe thead th {\n",
       "        text-align: right;\n",
       "    }\n",
       "</style>\n",
       "<table border=\"1\" class=\"dataframe\">\n",
       "  <thead>\n",
       "    <tr style=\"text-align: right;\">\n",
       "      <th></th>\n",
       "      <th>name</th>\n",
       "      <th>street</th>\n",
       "      <th>city</th>\n",
       "      <th>state</th>\n",
       "      <th>zip</th>\n",
       "    </tr>\n",
       "  </thead>\n",
       "  <tbody>\n",
       "    <tr>\n",
       "      <td>0</td>\n",
       "      <td>DeKalb School of the Arts</td>\n",
       "      <td>1192 Clarendon Ave</td>\n",
       "      <td>Avondale Estates</td>\n",
       "      <td>GA</td>\n",
       "      <td>30002</td>\n",
       "    </tr>\n",
       "    <tr>\n",
       "      <td>1</td>\n",
       "      <td>Museum School Avondale Estates</td>\n",
       "      <td>3191 Covington Hwy</td>\n",
       "      <td>Avondale Estates</td>\n",
       "      <td>GA</td>\n",
       "      <td>30002</td>\n",
       "    </tr>\n",
       "    <tr>\n",
       "      <td>2</td>\n",
       "      <td>DeKalb Elementary School of the Arts</td>\n",
       "      <td>3131 Old Rockbridge Rd</td>\n",
       "      <td>Avondale Estates</td>\n",
       "      <td>GA</td>\n",
       "      <td>30002</td>\n",
       "    </tr>\n",
       "    <tr>\n",
       "      <td>3</td>\n",
       "      <td>Avondale Elementary School</td>\n",
       "      <td>8 Lakeshore Dr</td>\n",
       "      <td>Avondale Estates</td>\n",
       "      <td>GA</td>\n",
       "      <td>30002</td>\n",
       "    </tr>\n",
       "    <tr>\n",
       "      <td>4</td>\n",
       "      <td>Manning Oaks Elementary School</td>\n",
       "      <td>405 Cumming St</td>\n",
       "      <td>Alpharetta</td>\n",
       "      <td>GA</td>\n",
       "      <td>30004</td>\n",
       "    </tr>\n",
       "  </tbody>\n",
       "</table>\n",
       "</div>"
      ],
      "text/plain": [
       "                                   name                  street  \\\n",
       "0             DeKalb School of the Arts      1192 Clarendon Ave   \n",
       "1        Museum School Avondale Estates      3191 Covington Hwy   \n",
       "2  DeKalb Elementary School of the Arts  3131 Old Rockbridge Rd   \n",
       "3            Avondale Elementary School          8 Lakeshore Dr   \n",
       "4        Manning Oaks Elementary School          405 Cumming St   \n",
       "\n",
       "               city state    zip  \n",
       "0  Avondale Estates    GA  30002  \n",
       "1  Avondale Estates    GA  30002  \n",
       "2  Avondale Estates    GA  30002  \n",
       "3  Avondale Estates    GA  30002  \n",
       "4        Alpharetta    GA  30004  "
      ]
     },
     "execution_count": 11,
     "metadata": {},
     "output_type": "execute_result"
    }
   ],
   "source": [
    "# Keep data from the state of GA\n",
    "schools_transformed_ga = schools_transformed[schools_transformed['state'] == 'GA']\n",
    "# Sort by Zip and Reset index\n",
    "schools_transformed_ga.sort_values('zip', inplace=True)\n",
    "schools_transformed_ga.reset_index(drop=True, inplace=True)\n",
    "schools_transformed_ga.head()"
   ]
  },
  {
   "cell_type": "markdown",
   "metadata": {},
   "source": [
    "### Connect to local database"
   ]
  },
  {
   "cell_type": "code",
   "execution_count": 12,
   "metadata": {},
   "outputs": [],
   "source": [
    "dbuser = \"postgres\"\n",
    "dbpassword = \"mSpG$20\"\n",
    "rds_connection_string = f\"{dbuser}:{dbpassword}@localhost:5432/garealestate_db\"\n",
    "engine = create_engine(f'postgresql://{rds_connection_string}')"
   ]
  },
  {
   "cell_type": "markdown",
   "metadata": {},
   "source": [
    "### Check for tables"
   ]
  },
  {
   "cell_type": "code",
   "execution_count": 13,
   "metadata": {},
   "outputs": [
    {
     "data": {
      "text/plain": [
       "['ga_schools']"
      ]
     },
     "execution_count": 13,
     "metadata": {},
     "output_type": "execute_result"
    }
   ],
   "source": [
    "engine.table_names()"
   ]
  },
  {
   "cell_type": "markdown",
   "metadata": {},
   "source": [
    "### Use pandas to load csv converted DataFrame into database"
   ]
  },
  {
   "cell_type": "code",
   "execution_count": 14,
   "metadata": {},
   "outputs": [],
   "source": [
    "schools_transformed_ga.to_sql(name='ga_schools', con=engine, if_exists='append', index=False)"
   ]
  },
  {
   "cell_type": "markdown",
   "metadata": {},
   "source": [
    "### Confirm data has been added by querying the ga_schools table\n",
    "* NOTE: can also check using pgAdmin"
   ]
  },
  {
   "cell_type": "code",
   "execution_count": 15,
   "metadata": {},
   "outputs": [
    {
     "data": {
      "text/html": [
       "<div>\n",
       "<style scoped>\n",
       "    .dataframe tbody tr th:only-of-type {\n",
       "        vertical-align: middle;\n",
       "    }\n",
       "\n",
       "    .dataframe tbody tr th {\n",
       "        vertical-align: top;\n",
       "    }\n",
       "\n",
       "    .dataframe thead th {\n",
       "        text-align: right;\n",
       "    }\n",
       "</style>\n",
       "<table border=\"1\" class=\"dataframe\">\n",
       "  <thead>\n",
       "    <tr style=\"text-align: right;\">\n",
       "      <th></th>\n",
       "      <th>id</th>\n",
       "      <th>name</th>\n",
       "      <th>street</th>\n",
       "      <th>city</th>\n",
       "      <th>state</th>\n",
       "      <th>zip</th>\n",
       "    </tr>\n",
       "  </thead>\n",
       "  <tbody>\n",
       "    <tr>\n",
       "      <td>0</td>\n",
       "      <td>1</td>\n",
       "      <td>DeKalb School of the Arts</td>\n",
       "      <td>1192 Clarendon Ave</td>\n",
       "      <td>Avondale Estates</td>\n",
       "      <td>GA</td>\n",
       "      <td>30002</td>\n",
       "    </tr>\n",
       "    <tr>\n",
       "      <td>1</td>\n",
       "      <td>2</td>\n",
       "      <td>Museum School Avondale Estates</td>\n",
       "      <td>3191 Covington Hwy</td>\n",
       "      <td>Avondale Estates</td>\n",
       "      <td>GA</td>\n",
       "      <td>30002</td>\n",
       "    </tr>\n",
       "    <tr>\n",
       "      <td>2</td>\n",
       "      <td>3</td>\n",
       "      <td>DeKalb Elementary School of the Arts</td>\n",
       "      <td>3131 Old Rockbridge Rd</td>\n",
       "      <td>Avondale Estates</td>\n",
       "      <td>GA</td>\n",
       "      <td>30002</td>\n",
       "    </tr>\n",
       "    <tr>\n",
       "      <td>3</td>\n",
       "      <td>4</td>\n",
       "      <td>Avondale Elementary School</td>\n",
       "      <td>8 Lakeshore Dr</td>\n",
       "      <td>Avondale Estates</td>\n",
       "      <td>GA</td>\n",
       "      <td>30002</td>\n",
       "    </tr>\n",
       "    <tr>\n",
       "      <td>4</td>\n",
       "      <td>5</td>\n",
       "      <td>Manning Oaks Elementary School</td>\n",
       "      <td>405 Cumming St</td>\n",
       "      <td>Alpharetta</td>\n",
       "      <td>GA</td>\n",
       "      <td>30004</td>\n",
       "    </tr>\n",
       "  </tbody>\n",
       "</table>\n",
       "</div>"
      ],
      "text/plain": [
       "   id                                  name                  street  \\\n",
       "0   1             DeKalb School of the Arts      1192 Clarendon Ave   \n",
       "1   2        Museum School Avondale Estates      3191 Covington Hwy   \n",
       "2   3  DeKalb Elementary School of the Arts  3131 Old Rockbridge Rd   \n",
       "3   4            Avondale Elementary School          8 Lakeshore Dr   \n",
       "4   5        Manning Oaks Elementary School          405 Cumming St   \n",
       "\n",
       "               city state    zip  \n",
       "0  Avondale Estates    GA  30002  \n",
       "1  Avondale Estates    GA  30002  \n",
       "2  Avondale Estates    GA  30002  \n",
       "3  Avondale Estates    GA  30002  \n",
       "4        Alpharetta    GA  30004  "
      ]
     },
     "execution_count": 15,
     "metadata": {},
     "output_type": "execute_result"
    }
   ],
   "source": [
    "pd.read_sql_query('select * from ga_schools', con=engine).head()"
   ]
  },
  {
   "cell_type": "code",
   "execution_count": null,
   "metadata": {},
   "outputs": [],
   "source": []
  }
 ],
 "metadata": {
  "kernelspec": {
   "display_name": "Python 3",
   "language": "python",
   "name": "python3"
  },
  "language_info": {
   "codemirror_mode": {
    "name": "ipython",
    "version": 3
   },
   "file_extension": ".py",
   "mimetype": "text/x-python",
   "name": "python",
   "nbconvert_exporter": "python",
   "pygments_lexer": "ipython3",
   "version": "3.7.4"
  },
  "nteract": {
   "version": "0.12.3"
  }
 },
 "nbformat": 4,
 "nbformat_minor": 4
}
